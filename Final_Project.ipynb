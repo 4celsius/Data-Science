{
  "cells": [
    {
      "cell_type": "code",
      "execution_count": 190,
      "metadata": {
        "id": "-boUsoWpjxW0"
      },
      "outputs": [],
      "source": [
        "import pandas as pd\n",
        "df_train = pd.read_csv('application_train.csv')\n",
        "df_test = pd.read_csv('application_test.csv')\n",
        "pd.set_option('display.max_rows', None)"
      ]
    },
    {
      "cell_type": "markdown",
      "metadata": {
        "id": "d9vfor3f8Mtv"
      },
      "source": [
        "Data Cleaning"
      ]
    },
    {
      "cell_type": "code",
      "execution_count": 191,
      "metadata": {
        "id": "QbdUng30EAAO"
      },
      "outputs": [],
      "source": [
        "#remove irrelevant data\n",
        "df_train_clean = df_train\n",
        "df_train_clean.drop([\"SK_ID_CURR\"],inplace=True,axis=1)\n",
        "df_train_clean.drop([\"FLAG_MOBIL\"],inplace=True,axis=1)"
      ]
    },
    {
      "cell_type": "code",
      "execution_count": 192,
      "metadata": {
        "id": "cFxKdxknGqua"
      },
      "outputs": [],
      "source": [
        "#handling missing values\n",
        "for i in df_train_clean.columns:\n",
        "  if df_train_clean[i].isnull().sum()*100/len(df_train_clean) > 0.4:\n",
        "    df_train_clean.drop(i,inplace=True,axis=1) \n",
        "\n",
        "df_train_clean[\"AMT_ANNUITY\"].fillna(df_train_clean[\"AMT_ANNUITY\"].mean(),inplace=True)\n",
        "df_train_clean[\"AMT_GOODS_PRICE\"].fillna(df_train_clean[\"AMT_GOODS_PRICE\"].mean(),inplace=True)\n",
        "df_train_clean[\"EXT_SOURCE_2\"].fillna(df_train_clean[\"EXT_SOURCE_2\"].mean(),inplace=True)\n",
        "df_train_clean.dropna(how=\"any\",inplace=True)\n",
        "\n",
        "df_test_clean = df_test\n",
        "df_test_clean[\"AMT_ANNUITY\"].fillna(df_test_clean[\"AMT_ANNUITY\"].mean(),inplace=True)\n",
        "df_test_clean[\"AMT_GOODS_PRICE\"].fillna(df_test_clean[\"AMT_GOODS_PRICE\"].mean(),inplace=True)\n",
        "df_test_clean[\"EXT_SOURCE_2\"].fillna(df_test_clean[\"EXT_SOURCE_2\"].mean(),inplace=True)\n",
        "df_test_clean.dropna(how=\"any\",inplace=True)"
      ]
    },
    {
      "cell_type": "code",
      "execution_count": 193,
      "metadata": {
        "id": "bMyJEndvQ5Ot"
      },
      "outputs": [],
      "source": [
        "#remove duplicate\n",
        "df_train.duplicated().sum()\n",
        "df_train_clean = df_train.drop_duplicates()"
      ]
    },
    {
      "cell_type": "markdown",
      "metadata": {
        "id": "t1McN224qzio"
      },
      "source": [
        "Data Visualization"
      ]
    },
    {
      "cell_type": "code",
      "execution_count": null,
      "metadata": {
        "colab": {
          "base_uri": "https://localhost:8080/"
        },
        "id": "31ug6nUS6wEQ",
        "outputId": "472ba574-68c1-44b4-84ef-c885e728fa24"
      },
      "outputs": [
        {
          "output_type": "execute_result",
          "data": {
            "text/plain": [
              "<matplotlib.axes._subplots.AxesSubplot at 0x7f6d258ab310>"
            ]
          },
          "metadata": {},
          "execution_count": 194
        }
      ],
      "source": [
        "# feature selection using heatmap\n",
        "import matplotlib.pyplot as plt\n",
        "import seaborn as sns\n",
        "corr = df_train_clean.corr()\n",
        "plt.figure(figsize=(40,24))\n",
        "sns.heatmap(corr,cmap=\"RdYlGn\",annot=True)\n"
      ]
    },
    {
      "cell_type": "markdown",
      "metadata": {
        "id": "MXc-IpjEBsBU"
      },
      "source": [
        "Label Encoding"
      ]
    },
    {
      "cell_type": "code",
      "execution_count": null,
      "metadata": {
        "colab": {
          "base_uri": "https://localhost:8080/",
          "height": 300
        },
        "id": "NfQKQJWlSmPw",
        "outputId": "5cddadf7-9f6f-4b97-bb00-d260c9732d19"
      },
      "outputs": [
        {
          "data": {
            "text/html": [
              "\n",
              "  <div id=\"df-d2084e46-243d-4c3a-b1ac-0a36b56f7eb8\">\n",
              "    <div class=\"colab-df-container\">\n",
              "      <div>\n",
              "<style scoped>\n",
              "    .dataframe tbody tr th:only-of-type {\n",
              "        vertical-align: middle;\n",
              "    }\n",
              "\n",
              "    .dataframe tbody tr th {\n",
              "        vertical-align: top;\n",
              "    }\n",
              "\n",
              "    .dataframe thead th {\n",
              "        text-align: right;\n",
              "    }\n",
              "</style>\n",
              "<table border=\"1\" class=\"dataframe\">\n",
              "  <thead>\n",
              "    <tr style=\"text-align: right;\">\n",
              "      <th></th>\n",
              "      <th>TARGET</th>\n",
              "      <th>NAME_CONTRACT_TYPE</th>\n",
              "      <th>CODE_GENDER</th>\n",
              "      <th>FLAG_OWN_CAR</th>\n",
              "      <th>FLAG_OWN_REALTY</th>\n",
              "      <th>CNT_CHILDREN</th>\n",
              "      <th>AMT_INCOME_TOTAL</th>\n",
              "      <th>AMT_CREDIT</th>\n",
              "      <th>AMT_ANNUITY</th>\n",
              "      <th>AMT_GOODS_PRICE</th>\n",
              "      <th>...</th>\n",
              "      <th>FLAG_DOCUMENT_12</th>\n",
              "      <th>FLAG_DOCUMENT_13</th>\n",
              "      <th>FLAG_DOCUMENT_14</th>\n",
              "      <th>FLAG_DOCUMENT_15</th>\n",
              "      <th>FLAG_DOCUMENT_16</th>\n",
              "      <th>FLAG_DOCUMENT_17</th>\n",
              "      <th>FLAG_DOCUMENT_18</th>\n",
              "      <th>FLAG_DOCUMENT_19</th>\n",
              "      <th>FLAG_DOCUMENT_20</th>\n",
              "      <th>FLAG_DOCUMENT_21</th>\n",
              "    </tr>\n",
              "  </thead>\n",
              "  <tbody>\n",
              "    <tr>\n",
              "      <th>0</th>\n",
              "      <td>1</td>\n",
              "      <td>0</td>\n",
              "      <td>1</td>\n",
              "      <td>0</td>\n",
              "      <td>1</td>\n",
              "      <td>0</td>\n",
              "      <td>202500.0</td>\n",
              "      <td>406597.5</td>\n",
              "      <td>24700.5</td>\n",
              "      <td>351000.0</td>\n",
              "      <td>...</td>\n",
              "      <td>0</td>\n",
              "      <td>0</td>\n",
              "      <td>0</td>\n",
              "      <td>0</td>\n",
              "      <td>0</td>\n",
              "      <td>0</td>\n",
              "      <td>0</td>\n",
              "      <td>0</td>\n",
              "      <td>0</td>\n",
              "      <td>0</td>\n",
              "    </tr>\n",
              "    <tr>\n",
              "      <th>1</th>\n",
              "      <td>0</td>\n",
              "      <td>0</td>\n",
              "      <td>0</td>\n",
              "      <td>0</td>\n",
              "      <td>0</td>\n",
              "      <td>0</td>\n",
              "      <td>270000.0</td>\n",
              "      <td>1293502.5</td>\n",
              "      <td>35698.5</td>\n",
              "      <td>1129500.0</td>\n",
              "      <td>...</td>\n",
              "      <td>0</td>\n",
              "      <td>0</td>\n",
              "      <td>0</td>\n",
              "      <td>0</td>\n",
              "      <td>0</td>\n",
              "      <td>0</td>\n",
              "      <td>0</td>\n",
              "      <td>0</td>\n",
              "      <td>0</td>\n",
              "      <td>0</td>\n",
              "    </tr>\n",
              "    <tr>\n",
              "      <th>2</th>\n",
              "      <td>0</td>\n",
              "      <td>1</td>\n",
              "      <td>1</td>\n",
              "      <td>1</td>\n",
              "      <td>1</td>\n",
              "      <td>0</td>\n",
              "      <td>67500.0</td>\n",
              "      <td>135000.0</td>\n",
              "      <td>6750.0</td>\n",
              "      <td>135000.0</td>\n",
              "      <td>...</td>\n",
              "      <td>0</td>\n",
              "      <td>0</td>\n",
              "      <td>0</td>\n",
              "      <td>0</td>\n",
              "      <td>0</td>\n",
              "      <td>0</td>\n",
              "      <td>0</td>\n",
              "      <td>0</td>\n",
              "      <td>0</td>\n",
              "      <td>0</td>\n",
              "    </tr>\n",
              "    <tr>\n",
              "      <th>3</th>\n",
              "      <td>0</td>\n",
              "      <td>0</td>\n",
              "      <td>0</td>\n",
              "      <td>0</td>\n",
              "      <td>1</td>\n",
              "      <td>0</td>\n",
              "      <td>135000.0</td>\n",
              "      <td>312682.5</td>\n",
              "      <td>29686.5</td>\n",
              "      <td>297000.0</td>\n",
              "      <td>...</td>\n",
              "      <td>0</td>\n",
              "      <td>0</td>\n",
              "      <td>0</td>\n",
              "      <td>0</td>\n",
              "      <td>0</td>\n",
              "      <td>0</td>\n",
              "      <td>0</td>\n",
              "      <td>0</td>\n",
              "      <td>0</td>\n",
              "      <td>0</td>\n",
              "    </tr>\n",
              "    <tr>\n",
              "      <th>4</th>\n",
              "      <td>0</td>\n",
              "      <td>0</td>\n",
              "      <td>1</td>\n",
              "      <td>0</td>\n",
              "      <td>1</td>\n",
              "      <td>0</td>\n",
              "      <td>121500.0</td>\n",
              "      <td>513000.0</td>\n",
              "      <td>21865.5</td>\n",
              "      <td>513000.0</td>\n",
              "      <td>...</td>\n",
              "      <td>0</td>\n",
              "      <td>0</td>\n",
              "      <td>0</td>\n",
              "      <td>0</td>\n",
              "      <td>0</td>\n",
              "      <td>0</td>\n",
              "      <td>0</td>\n",
              "      <td>0</td>\n",
              "      <td>0</td>\n",
              "      <td>0</td>\n",
              "    </tr>\n",
              "  </tbody>\n",
              "</table>\n",
              "<p>5 rows × 62 columns</p>\n",
              "</div>\n",
              "      <button class=\"colab-df-convert\" onclick=\"convertToInteractive('df-d2084e46-243d-4c3a-b1ac-0a36b56f7eb8')\"\n",
              "              title=\"Convert this dataframe to an interactive table.\"\n",
              "              style=\"display:none;\">\n",
              "        \n",
              "  <svg xmlns=\"http://www.w3.org/2000/svg\" height=\"24px\"viewBox=\"0 0 24 24\"\n",
              "       width=\"24px\">\n",
              "    <path d=\"M0 0h24v24H0V0z\" fill=\"none\"/>\n",
              "    <path d=\"M18.56 5.44l.94 2.06.94-2.06 2.06-.94-2.06-.94-.94-2.06-.94 2.06-2.06.94zm-11 1L8.5 8.5l.94-2.06 2.06-.94-2.06-.94L8.5 2.5l-.94 2.06-2.06.94zm10 10l.94 2.06.94-2.06 2.06-.94-2.06-.94-.94-2.06-.94 2.06-2.06.94z\"/><path d=\"M17.41 7.96l-1.37-1.37c-.4-.4-.92-.59-1.43-.59-.52 0-1.04.2-1.43.59L10.3 9.45l-7.72 7.72c-.78.78-.78 2.05 0 2.83L4 21.41c.39.39.9.59 1.41.59.51 0 1.02-.2 1.41-.59l7.78-7.78 2.81-2.81c.8-.78.8-2.07 0-2.86zM5.41 20L4 18.59l7.72-7.72 1.47 1.35L5.41 20z\"/>\n",
              "  </svg>\n",
              "      </button>\n",
              "      \n",
              "  <style>\n",
              "    .colab-df-container {\n",
              "      display:flex;\n",
              "      flex-wrap:wrap;\n",
              "      gap: 12px;\n",
              "    }\n",
              "\n",
              "    .colab-df-convert {\n",
              "      background-color: #E8F0FE;\n",
              "      border: none;\n",
              "      border-radius: 50%;\n",
              "      cursor: pointer;\n",
              "      display: none;\n",
              "      fill: #1967D2;\n",
              "      height: 32px;\n",
              "      padding: 0 0 0 0;\n",
              "      width: 32px;\n",
              "    }\n",
              "\n",
              "    .colab-df-convert:hover {\n",
              "      background-color: #E2EBFA;\n",
              "      box-shadow: 0px 1px 2px rgba(60, 64, 67, 0.3), 0px 1px 3px 1px rgba(60, 64, 67, 0.15);\n",
              "      fill: #174EA6;\n",
              "    }\n",
              "\n",
              "    [theme=dark] .colab-df-convert {\n",
              "      background-color: #3B4455;\n",
              "      fill: #D2E3FC;\n",
              "    }\n",
              "\n",
              "    [theme=dark] .colab-df-convert:hover {\n",
              "      background-color: #434B5C;\n",
              "      box-shadow: 0px 1px 3px 1px rgba(0, 0, 0, 0.15);\n",
              "      filter: drop-shadow(0px 1px 2px rgba(0, 0, 0, 0.3));\n",
              "      fill: #FFFFFF;\n",
              "    }\n",
              "  </style>\n",
              "\n",
              "      <script>\n",
              "        const buttonEl =\n",
              "          document.querySelector('#df-d2084e46-243d-4c3a-b1ac-0a36b56f7eb8 button.colab-df-convert');\n",
              "        buttonEl.style.display =\n",
              "          google.colab.kernel.accessAllowed ? 'block' : 'none';\n",
              "\n",
              "        async function convertToInteractive(key) {\n",
              "          const element = document.querySelector('#df-d2084e46-243d-4c3a-b1ac-0a36b56f7eb8');\n",
              "          const dataTable =\n",
              "            await google.colab.kernel.invokeFunction('convertToInteractive',\n",
              "                                                     [key], {});\n",
              "          if (!dataTable) return;\n",
              "\n",
              "          const docLinkHtml = 'Like what you see? Visit the ' +\n",
              "            '<a target=\"_blank\" href=https://colab.research.google.com/notebooks/data_table.ipynb>data table notebook</a>'\n",
              "            + ' to learn more about interactive tables.';\n",
              "          element.innerHTML = '';\n",
              "          dataTable['output_type'] = 'display_data';\n",
              "          await google.colab.output.renderOutput(dataTable, element);\n",
              "          const docLink = document.createElement('div');\n",
              "          docLink.innerHTML = docLinkHtml;\n",
              "          element.appendChild(docLink);\n",
              "        }\n",
              "      </script>\n",
              "    </div>\n",
              "  </div>\n",
              "  "
            ],
            "text/plain": [
              "   TARGET  NAME_CONTRACT_TYPE  CODE_GENDER  FLAG_OWN_CAR  FLAG_OWN_REALTY  \\\n",
              "0       1                   0            1             0                1   \n",
              "1       0                   0            0             0                0   \n",
              "2       0                   1            1             1                1   \n",
              "3       0                   0            0             0                1   \n",
              "4       0                   0            1             0                1   \n",
              "\n",
              "   CNT_CHILDREN  AMT_INCOME_TOTAL  AMT_CREDIT  AMT_ANNUITY  AMT_GOODS_PRICE  \\\n",
              "0             0          202500.0    406597.5      24700.5         351000.0   \n",
              "1             0          270000.0   1293502.5      35698.5        1129500.0   \n",
              "2             0           67500.0    135000.0       6750.0         135000.0   \n",
              "3             0          135000.0    312682.5      29686.5         297000.0   \n",
              "4             0          121500.0    513000.0      21865.5         513000.0   \n",
              "\n",
              "   ...  FLAG_DOCUMENT_12  FLAG_DOCUMENT_13  FLAG_DOCUMENT_14  \\\n",
              "0  ...                 0                 0                 0   \n",
              "1  ...                 0                 0                 0   \n",
              "2  ...                 0                 0                 0   \n",
              "3  ...                 0                 0                 0   \n",
              "4  ...                 0                 0                 0   \n",
              "\n",
              "   FLAG_DOCUMENT_15  FLAG_DOCUMENT_16  FLAG_DOCUMENT_17  FLAG_DOCUMENT_18  \\\n",
              "0                 0                 0                 0                 0   \n",
              "1                 0                 0                 0                 0   \n",
              "2                 0                 0                 0                 0   \n",
              "3                 0                 0                 0                 0   \n",
              "4                 0                 0                 0                 0   \n",
              "\n",
              "   FLAG_DOCUMENT_19  FLAG_DOCUMENT_20  FLAG_DOCUMENT_21  \n",
              "0                 0                 0                 0  \n",
              "1                 0                 0                 0  \n",
              "2                 0                 0                 0  \n",
              "3                 0                 0                 0  \n",
              "4                 0                 0                 0  \n",
              "\n",
              "[5 rows x 62 columns]"
            ]
          },
          "execution_count": 171,
          "metadata": {},
          "output_type": "execute_result"
        }
      ],
      "source": [
        "for i in df_train_clean.columns:\n",
        "  if df_train_clean[i].dtypes == 'object':\n",
        "    df_train_clean[i] = df_train_clean[i].astype('category').cat.codes\n",
        "\n",
        "df_train_clean.head()"
      ]
    },
    {
      "cell_type": "markdown",
      "metadata": {
        "id": "xVPQEUXwhuDZ"
      },
      "source": [
        "Feature Selection"
      ]
    },
    {
      "cell_type": "code",
      "execution_count": null,
      "metadata": {
        "colab": {
          "base_uri": "https://localhost:8080/"
        },
        "id": "l0vJUekx-qV_",
        "outputId": "d1267b34-267c-4580-ebf3-1246f78fadd1"
      },
      "outputs": [
        {
          "output_type": "stream",
          "name": "stdout",
          "text": [
            "['AMT_ANNUITY', 'AMT_GOODS_PRICE', 'DAYS_EMPLOYED', 'FLAG_EMP_PHONE', 'CNT_FAM_MEMBERS', 'REGION_RATING_CLIENT', 'REGION_RATING_CLIENT_W_CITY', 'REG_REGION_NOT_WORK_REGION', 'REG_CITY_NOT_WORK_CITY', 'OBS_60_CNT_SOCIAL_CIRCLE', 'DEF_60_CNT_SOCIAL_CIRCLE', 'FLAG_DOCUMENT_6', 'FLAG_DOCUMENT_6', 'FLAG_DOCUMENT_8']\n"
          ]
        }
      ],
      "source": [
        "col_corr = []\n",
        "matrix = df_train_clean.iloc[:,1:].corr()\n",
        "for i in range(len(matrix)):\n",
        "  for j in range(i):\n",
        "    if abs(matrix.iloc[i,j]) >= 0.4 and (matrix.columns[j] not in col_corr):\n",
        "      col_name = matrix.columns[i]\n",
        "      col_corr.append(col_name)\n",
        "\n",
        "print(col_corr)"
      ]
    },
    {
      "cell_type": "markdown",
      "metadata": {
        "id": "JbwU3SV3EmLa"
      },
      "source": [
        "Normalization"
      ]
    },
    {
      "cell_type": "code",
      "execution_count": null,
      "metadata": {
        "colab": {
          "base_uri": "https://localhost:8080/"
        },
        "id": "tvsKnkihA2ve",
        "outputId": "64076f67-3038-4aa3-81a7-1851fddaf0e5"
      },
      "outputs": [
        {
          "output_type": "stream",
          "name": "stdout",
          "text": [
            "[[0.07829063 0.04601571 0.04412053 ... 0.00581395 0.         0.        ]\n",
            " [0.08545104 0.07968575 0.04183424 ... 0.01453488 1.         0.        ]\n",
            " [0.02544753 0.00673401 0.03993162 ... 0.00872093 0.         0.        ]\n",
            " ...\n",
            " [0.21863812 0.15824916 0.04299826 ... 0.00290698 1.         0.        ]\n",
            " [0.06874342 0.04601571 0.04509924 ... 0.         1.         0.        ]\n",
            " [0.12114777 0.04601571 0.0348971  ... 0.00290698 0.         0.        ]]\n"
          ]
        }
      ],
      "source": [
        "pd.set_option('display.max_rows', 10)\n",
        "x_train = df_train_clean[['AMT_ANNUITY', 'AMT_GOODS_PRICE', 'DAYS_EMPLOYED', 'FLAG_EMP_PHONE', 'CNT_FAM_MEMBERS', 'REGION_RATING_CLIENT', 'REGION_RATING_CLIENT_W_CITY', 'REG_REGION_NOT_WORK_REGION', 'REG_CITY_NOT_WORK_CITY', 'OBS_60_CNT_SOCIAL_CIRCLE', 'FLAG_DOCUMENT_3', 'FLAG_DOCUMENT_6']]\n",
        "y_train =df_train_clean['TARGET']\n",
        "x_test = df_test_clean[['AMT_ANNUITY', 'AMT_GOODS_PRICE', 'DAYS_EMPLOYED', 'FLAG_EMP_PHONE', 'CNT_FAM_MEMBERS', 'REGION_RATING_CLIENT', 'REGION_RATING_CLIENT_W_CITY', 'REG_REGION_NOT_WORK_REGION', 'REG_CITY_NOT_WORK_CITY', 'OBS_60_CNT_SOCIAL_CIRCLE', 'FLAG_DOCUMENT_3', 'FLAG_DOCUMENT_6']]\n",
        "\n",
        "# data normalization with sklearn\n",
        "from sklearn.preprocessing import MinMaxScaler\n",
        "norm = MinMaxScaler().fit(x_train)\n",
        "x_train = norm.transform(x_train)\n",
        "x_test = norm.transform(x_test)\n",
        "print(x_test)"
      ]
    },
    {
      "cell_type": "markdown",
      "metadata": {
        "id": "gCMQoLKgA2hJ"
      },
      "source": [
        "Handling Over/Undersampling "
      ]
    },
    {
      "cell_type": "code",
      "execution_count": null,
      "metadata": {
        "colab": {
          "base_uri": "https://localhost:8080/"
        },
        "id": "OJBjHZ_n-pem",
        "outputId": "77dd2645-4642-4f1d-ad17-6fcf960a0fbe"
      },
      "outputs": [
        {
          "output_type": "stream",
          "name": "stdout",
          "text": [
            "1    281698\n",
            "0    281698\n",
            "Name: TARGET, dtype: int64\n"
          ]
        }
      ],
      "source": [
        "import numpy as np\n",
        "from imblearn.over_sampling import SMOTE\n",
        "\n",
        "sm = SMOTE(random_state=42)\n",
        "x_train = np.array(x_train)\n",
        "x_train, y_train = sm.fit_resample(x_train, y_train)\n",
        "print(y_train.value_counts())"
      ]
    },
    {
      "cell_type": "markdown",
      "metadata": {
        "id": "LSJ-GNY2A8ob"
      },
      "source": [
        "Building Model"
      ]
    },
    {
      "cell_type": "code",
      "execution_count": null,
      "metadata": {
        "id": "kUzaNSwX4syb"
      },
      "outputs": [],
      "source": [
        "from numpy import mean, std\n",
        "from sklearn.neighbors import KNeighborsClassifier\n",
        "from sklearn.linear_model import LogisticRegression\n",
        "from sklearn.ensemble import RandomForestClassifier\n",
        "from sklearn.model_selection import KFold, cross_val_score, cross_val_predict,StratifiedKFold\n",
        "import matplotlib.pyplot as pyplot\n",
        "\n",
        "k_fold = StratifiedKFold(n_splits=10, random_state=0, shuffle=True)"
      ]
    },
    {
      "cell_type": "markdown",
      "metadata": {
        "id": "43ekZDErBDYi"
      },
      "source": [
        "Logistic Regression"
      ]
    },
    {
      "cell_type": "code",
      "execution_count": null,
      "metadata": {
        "colab": {
          "base_uri": "https://localhost:8080/"
        },
        "id": "xNOYrgbV4AQI",
        "outputId": "f6ec50c5-611f-4755-f789-635b276e844d"
      },
      "outputs": [
        {
          "output_type": "stream",
          "name": "stdout",
          "text": [
            "[0.59783458 0.59527867 0.59930777 0.59797657 0.59939652 0.59591764\n",
            " 0.59759669 0.59255578 0.59607022 0.59704645]\n",
            "Accuracy: 0.597 (0.002)\n"
          ]
        }
      ],
      "source": [
        "clf = LogisticRegression(solver='liblinear', random_state=0)\n",
        "scores = cross_val_score(clf, x_train, y_train, scoring='accuracy', cv=k_fold, n_jobs=-1)\n",
        "print(scores)\n",
        "print('Accuracy: %.3f (%.3f)' % (mean(scores), std(scores)))"
      ]
    },
    {
      "cell_type": "markdown",
      "metadata": {
        "id": "LLRuKVnoBGMb"
      },
      "source": [
        "K-Nearest Neighbors"
      ]
    },
    {
      "cell_type": "code",
      "execution_count": null,
      "metadata": {
        "id": "fP-QVV-g38Jn"
      },
      "outputs": [],
      "source": [
        "clf = KNeighborsClassifier(n_neighbors=5)\n",
        "scores = cross_val_score(clf, x_train, y_train, scoring='accuracy', cv=k_fold, n_jobs=-1)\n",
        "print(scores)\n",
        "print('Accuracy: %.3f (%.3f)' % (mean(scores), std(scores)))"
      ]
    },
    {
      "cell_type": "markdown",
      "metadata": {
        "id": "VVnx79dlBMoq"
      },
      "source": [
        "Random Forest"
      ]
    },
    {
      "cell_type": "code",
      "execution_count": null,
      "metadata": {
        "colab": {
          "base_uri": "https://localhost:8080/"
        },
        "id": "EAsbJf994Ahy",
        "outputId": "de7cc15c-4c80-4dd9-b95e-5fb43363beb9"
      },
      "outputs": [
        {
          "output_type": "stream",
          "name": "stdout",
          "text": [
            "[0.63468229 0.64009585 0.63888889 0.63942137 0.63954562 0.64032659\n",
            " 0.64426064 0.63558104 0.64010721 0.63854524]\n",
            "Accuracy: 0.639 (0.003)\n"
          ]
        }
      ],
      "source": [
        "clf = RandomForestClassifier(max_depth=2, random_state=0)\n",
        "scores = cross_val_score(clf, x_train, y_train, scoring='accuracy', cv=k_fold, n_jobs=-1)\n",
        "print(scores)\n",
        "print('Accuracy: %.3f (%.3f)' % (mean(scores), std(scores)))"
      ]
    },
    {
      "cell_type": "markdown",
      "metadata": {
        "id": "dtXlIHf76AMo"
      },
      "source": [
        "Evaluate Using Confusion Matrix "
      ]
    },
    {
      "cell_type": "code",
      "execution_count": 189,
      "metadata": {
        "id": "GO8-fyNH0TQT",
        "colab": {
          "base_uri": "https://localhost:8080/",
          "height": 513
        },
        "outputId": "670cceef-c496-495d-e54c-029a1fcaa940"
      },
      "outputs": [
        {
          "data": {
            "image/png": "[encoded data removed]",
            "text/plain": [
              "<Figure size 720x576 with 2 Axes>"
            ]
          },
          "metadata": {},
          "output_type": "display_data"
        }
      ],
      "source": [
        "from sklearn.metrics import confusion_matrix\n",
        "\n",
        "y_pred = cross_val_predict(clf, np.asarray(x_train), np.asarray(y_train), cv=k_fold)\n",
        "cm = confusion_matrix(y_train,y_pred)\n",
        "df_cm = pd.DataFrame(cm, index = [0,1],columns = [0,1])\n",
        "fig, ax = plt.subplots(figsize=(10, 8))\n",
        "sns.heatmap(df_cm, annot=True,ax=ax,fmt=\".1f\")\n",
        "ax.set_xlabel('Predicted labels');ax.set_ylabel('True labels'); \n",
        "ax.set_title('Confusion Matrix'); "
      ]
    },
    {
      "cell_type": "code",
      "execution_count": null,
      "metadata": {
        "colab": {
          "base_uri": "https://localhost:8080/"
        },
        "id": "L5e7GfXsvx6a",
        "outputId": "e0982135-3fc5-463e-817e-c9df1482b618"
      },
      "outputs": [
        {
          "name": "stdout",
          "output_type": "stream",
          "text": [
            "{'Accuracy': 0.7469488601268025, 'Precision': 0.7897986219307966, 'Sensitivity_recall': 0.6730186227804245, 'Specificity': 0.8208790974731806, 'F1_score': 0.7267472170259744}\n"
          ]
        }
      ],
      "source": [
        "from sklearn import metrics\n",
        "\n",
        "actual = y_train\n",
        "predicted = y_pred\n",
        "Accuracy = metrics.accuracy_score(actual, predicted)\n",
        "Precision = metrics.precision_score(actual, predicted)\n",
        "Sensitivity_recall = metrics.recall_score(actual, predicted)\n",
        "Specificity = metrics.recall_score(actual, predicted, pos_label=0)\n",
        "F1_score = metrics.f1_score(actual, predicted)\n",
        "print({\"Accuracy\":Accuracy,\"Precision\":Precision,\"Sensitivity_recall\":Sensitivity_recall,\"Specificity\":Specificity,\"F1_score\":F1_score})"
      ]
    }
  ],
  "metadata": {
    "colab": {
      "provenance": []
    },
    "kernelspec": {
      "display_name": "Python 3",
      "name": "python3"
    },
    "language_info": {
      "name": "python"
    }
  },
  "nbformat": 4,
  "nbformat_minor": 0
}